{
 "cells": [
  {
   "cell_type": "code",
   "execution_count": 9,
   "metadata": {},
   "outputs": [],
   "source": [
    "import numpy as np \n",
    "import pandas as pd \n",
    "import matplotlib.pyplot as plt\n",
    "import seaborn as sns\n",
    "color = sns.color_palette()\n",
    "import keras\n",
    "from sklearn.model_selection import train_test_split\n",
    "\n",
    "%matplotlib inline"
   ]
  },
  {
   "cell_type": "code",
   "execution_count": 10,
   "metadata": {},
   "outputs": [],
   "source": [
    "import cv2"
   ]
  },
  {
   "cell_type": "code",
   "execution_count": 11,
   "metadata": {},
   "outputs": [],
   "source": [
    "!pip install tensorflow --quiet"
   ]
  },
  {
   "cell_type": "code",
   "execution_count": 12,
   "metadata": {},
   "outputs": [
    {
     "name": "stdout",
     "output_type": "stream",
     "text": [
      "Requirement already satisfied: opencv-python in /Users/cyt.mead/anaconda3/lib/python3.6/site-packages (4.1.0.25)\n",
      "Requirement already satisfied: numpy>=1.11.3 in /Users/cyt.mead/anaconda3/lib/python3.6/site-packages (from opencv-python) (1.16.3)\n",
      "Note: you may need to restart the kernel to use updated packages.\n"
     ]
    }
   ],
   "source": [
    "pip install opencv-python"
   ]
  },
  {
   "cell_type": "code",
   "execution_count": 13,
   "metadata": {},
   "outputs": [],
   "source": [
    "!pip install keras cython h5py --quiet"
   ]
  },
  {
   "cell_type": "code",
   "execution_count": 14,
   "metadata": {},
   "outputs": [],
   "source": [
    "data_path = './Data/fer2013.csv'\n",
    "image_size = (48,48)\n"
   ]
  },
  {
   "cell_type": "code",
   "execution_count": 15,
   "metadata": {},
   "outputs": [],
   "source": [
    "data=pd.read_csv(data_path)"
   ]
  },
  {
   "cell_type": "code",
   "execution_count": 16,
   "metadata": {},
   "outputs": [
    {
     "name": "stdout",
     "output_type": "stream",
     "text": [
      "<class 'pandas.core.frame.DataFrame'>\n",
      "RangeIndex: 35887 entries, 0 to 35886\n",
      "Data columns (total 3 columns):\n",
      "emotion    35887 non-null int64\n",
      "pixels     35887 non-null object\n",
      "Usage      35887 non-null object\n",
      "dtypes: int64(1), object(2)\n",
      "memory usage: 841.2+ KB\n"
     ]
    }
   ],
   "source": [
    "data.info()"
   ]
  },
  {
   "cell_type": "code",
   "execution_count": 17,
   "metadata": {},
   "outputs": [
    {
     "data": {
      "text/html": [
       "<div>\n",
       "<style scoped>\n",
       "    .dataframe tbody tr th:only-of-type {\n",
       "        vertical-align: middle;\n",
       "    }\n",
       "\n",
       "    .dataframe tbody tr th {\n",
       "        vertical-align: top;\n",
       "    }\n",
       "\n",
       "    .dataframe thead th {\n",
       "        text-align: right;\n",
       "    }\n",
       "</style>\n",
       "<table border=\"1\" class=\"dataframe\">\n",
       "  <thead>\n",
       "    <tr style=\"text-align: right;\">\n",
       "      <th></th>\n",
       "      <th>emotion</th>\n",
       "      <th>pixels</th>\n",
       "      <th>Usage</th>\n",
       "    </tr>\n",
       "  </thead>\n",
       "  <tbody>\n",
       "    <tr>\n",
       "      <th>0</th>\n",
       "      <td>0</td>\n",
       "      <td>70 80 82 72 58 58 60 63 54 58 60 48 89 115 121...</td>\n",
       "      <td>Training</td>\n",
       "    </tr>\n",
       "    <tr>\n",
       "      <th>1</th>\n",
       "      <td>0</td>\n",
       "      <td>151 150 147 155 148 133 111 140 170 174 182 15...</td>\n",
       "      <td>Training</td>\n",
       "    </tr>\n",
       "    <tr>\n",
       "      <th>2</th>\n",
       "      <td>2</td>\n",
       "      <td>231 212 156 164 174 138 161 173 182 200 106 38...</td>\n",
       "      <td>Training</td>\n",
       "    </tr>\n",
       "    <tr>\n",
       "      <th>3</th>\n",
       "      <td>4</td>\n",
       "      <td>24 32 36 30 32 23 19 20 30 41 21 22 32 34 21 1...</td>\n",
       "      <td>Training</td>\n",
       "    </tr>\n",
       "    <tr>\n",
       "      <th>4</th>\n",
       "      <td>6</td>\n",
       "      <td>4 0 0 0 0 0 0 0 0 0 0 0 3 15 23 28 48 50 58 84...</td>\n",
       "      <td>Training</td>\n",
       "    </tr>\n",
       "  </tbody>\n",
       "</table>\n",
       "</div>"
      ],
      "text/plain": [
       "   emotion                                             pixels     Usage\n",
       "0        0  70 80 82 72 58 58 60 63 54 58 60 48 89 115 121...  Training\n",
       "1        0  151 150 147 155 148 133 111 140 170 174 182 15...  Training\n",
       "2        2  231 212 156 164 174 138 161 173 182 200 106 38...  Training\n",
       "3        4  24 32 36 30 32 23 19 20 30 41 21 22 32 34 21 1...  Training\n",
       "4        6  4 0 0 0 0 0 0 0 0 0 0 0 3 15 23 28 48 50 58 84...  Training"
      ]
     },
     "execution_count": 17,
     "metadata": {},
     "output_type": "execute_result"
    }
   ],
   "source": [
    "data.head()"
   ]
  },
  {
   "cell_type": "code",
   "execution_count": 18,
   "metadata": {
    "scrolled": false
   },
   "outputs": [
    {
     "data": {
      "text/html": [
       "<div>\n",
       "<style scoped>\n",
       "    .dataframe tbody tr th:only-of-type {\n",
       "        vertical-align: middle;\n",
       "    }\n",
       "\n",
       "    .dataframe tbody tr th {\n",
       "        vertical-align: top;\n",
       "    }\n",
       "\n",
       "    .dataframe thead th {\n",
       "        text-align: right;\n",
       "    }\n",
       "</style>\n",
       "<table border=\"1\" class=\"dataframe\">\n",
       "  <thead>\n",
       "    <tr style=\"text-align: right;\">\n",
       "      <th></th>\n",
       "      <th>index</th>\n",
       "      <th>emotion</th>\n",
       "    </tr>\n",
       "  </thead>\n",
       "  <tbody>\n",
       "    <tr>\n",
       "      <th>0</th>\n",
       "      <td>0</td>\n",
       "      <td>4953</td>\n",
       "    </tr>\n",
       "    <tr>\n",
       "      <th>1</th>\n",
       "      <td>1</td>\n",
       "      <td>547</td>\n",
       "    </tr>\n",
       "    <tr>\n",
       "      <th>2</th>\n",
       "      <td>2</td>\n",
       "      <td>5121</td>\n",
       "    </tr>\n",
       "    <tr>\n",
       "      <th>3</th>\n",
       "      <td>3</td>\n",
       "      <td>8989</td>\n",
       "    </tr>\n",
       "    <tr>\n",
       "      <th>4</th>\n",
       "      <td>4</td>\n",
       "      <td>6077</td>\n",
       "    </tr>\n",
       "    <tr>\n",
       "      <th>5</th>\n",
       "      <td>5</td>\n",
       "      <td>4002</td>\n",
       "    </tr>\n",
       "    <tr>\n",
       "      <th>6</th>\n",
       "      <td>6</td>\n",
       "      <td>6198</td>\n",
       "    </tr>\n",
       "  </tbody>\n",
       "</table>\n",
       "</div>"
      ],
      "text/plain": [
       "   index  emotion\n",
       "0      0     4953\n",
       "1      1      547\n",
       "2      2     5121\n",
       "3      3     8989\n",
       "4      4     6077\n",
       "5      5     4002\n",
       "6      6     6198"
      ]
     },
     "execution_count": 18,
     "metadata": {},
     "output_type": "execute_result"
    }
   ],
   "source": [
    "data['emotion'].value_counts(sort=False).reset_index()"
   ]
  },
  {
   "cell_type": "code",
   "execution_count": 19,
   "metadata": {},
   "outputs": [
    {
     "data": {
      "text/html": [
       "<div>\n",
       "<style scoped>\n",
       "    .dataframe tbody tr th:only-of-type {\n",
       "        vertical-align: middle;\n",
       "    }\n",
       "\n",
       "    .dataframe tbody tr th {\n",
       "        vertical-align: top;\n",
       "    }\n",
       "\n",
       "    .dataframe thead th {\n",
       "        text-align: right;\n",
       "    }\n",
       "</style>\n",
       "<table border=\"1\" class=\"dataframe\">\n",
       "  <thead>\n",
       "    <tr style=\"text-align: right;\">\n",
       "      <th></th>\n",
       "      <th>emotion</th>\n",
       "      <th>number</th>\n",
       "    </tr>\n",
       "  </thead>\n",
       "  <tbody>\n",
       "    <tr>\n",
       "      <th>0</th>\n",
       "      <td>Angry</td>\n",
       "      <td>4953</td>\n",
       "    </tr>\n",
       "    <tr>\n",
       "      <th>1</th>\n",
       "      <td>Digust</td>\n",
       "      <td>547</td>\n",
       "    </tr>\n",
       "    <tr>\n",
       "      <th>2</th>\n",
       "      <td>Fear</td>\n",
       "      <td>5121</td>\n",
       "    </tr>\n",
       "    <tr>\n",
       "      <th>3</th>\n",
       "      <td>Happy</td>\n",
       "      <td>8989</td>\n",
       "    </tr>\n",
       "    <tr>\n",
       "      <th>4</th>\n",
       "      <td>Sad</td>\n",
       "      <td>6077</td>\n",
       "    </tr>\n",
       "    <tr>\n",
       "      <th>5</th>\n",
       "      <td>Surprise</td>\n",
       "      <td>4002</td>\n",
       "    </tr>\n",
       "    <tr>\n",
       "      <th>6</th>\n",
       "      <td>Neutral</td>\n",
       "      <td>6198</td>\n",
       "    </tr>\n",
       "  </tbody>\n",
       "</table>\n",
       "</div>"
      ],
      "text/plain": [
       "    emotion  number\n",
       "0     Angry    4953\n",
       "1    Digust     547\n",
       "2      Fear    5121\n",
       "3     Happy    8989\n",
       "4       Sad    6077\n",
       "5  Surprise    4002\n",
       "6   Neutral    6198"
      ]
     },
     "execution_count": 19,
     "metadata": {},
     "output_type": "execute_result"
    }
   ],
   "source": [
    "emotion_map = {0: 'Angry', 1: 'Digust', 2: 'Fear', 3: 'Happy', 4: 'Sad', 5: 'Surprise', 6: 'Neutral'}\n",
    "emotion_counts = data['emotion'].value_counts(sort=False).reset_index()\n",
    "emotion_counts.columns = ['emotion', 'number']\n",
    "emotion_counts['emotion'] = emotion_counts['emotion'].map(emotion_map)\n",
    "emotion_counts"
   ]
  },
  {
   "cell_type": "code",
   "execution_count": 20,
   "metadata": {},
   "outputs": [],
   "source": [
    "def pics_from_row(row):\n",
    "    pixels, emotion = row['pixels'], emotion_map[row['emotion']]\n",
    "    pic = np.array(pixels.split())\n",
    "    pic = pic.reshape(48,48)\n",
    "    picture = np.zeros((48,48,3))\n",
    "    picture[:,:,0] = pic\n",
    "    picture[:,:,1] = pic\n",
    "    picture[:,:,2] = pic\n",
    "    return np.array([picture.astype(np.uint8),emotion])"
   ]
  },
  {
   "cell_type": "code",
   "execution_count": 21,
   "metadata": {},
   "outputs": [
    {
     "data": {
      "image/png": "[encoded data removed]",
      "text/plain": [
       "<Figure size 1152x720 with 7 Axes>"
      ]
     },
     "metadata": {
      "needs_background": "light"
     },
     "output_type": "display_data"
    }
   ],
   "source": [
    "plt.figure(0,figsize=(16,10))\n",
    "for i in range (1,8):\n",
    "    face = data[data['emotion']== i-1].iloc[0]\n",
    "    pic = pics_from_row(face)\n",
    "    plt.subplot(2,4,i)\n",
    "    plt.imshow(pic[0])\n",
    "    plt.title(pic[1])\n",
    "plt.show()"
   ]
  },
  {
   "cell_type": "code",
   "execution_count": 22,
   "metadata": {
    "scrolled": true
   },
   "outputs": [],
   "source": [
    "pixels = data ['pixels'].tolist()\n",
    "width,height = 48,48\n",
    "faces = []\n",
    "for i in pixels: \n",
    "    face = [int(pixel) for pixel in i.split(' ')]\n",
    "    face = np.asarray(face).reshape(width,height)\n",
    "    face = cv2.resize(face.astype('uint8'),image_size)\n",
    "    face = face.astype('float32')\n",
    "    faces.append(face)\n",
    "faces = np.asarray(faces)\n",
    "faces = np.expand_dims(faces,-1)"
   ]
  },
  {
   "cell_type": "code",
   "execution_count": 23,
   "metadata": {},
   "outputs": [],
   "source": [
    "emotions = pd.get_dummies(data['emotion']).values"
   ]
  },
  {
   "cell_type": "code",
   "execution_count": 24,
   "metadata": {},
   "outputs": [],
   "source": [
    "def preprocessor (x,v2=True):\n",
    "      x = x.astype('float32')\n",
    "      x = x / 255.0\n",
    "      if v2:\n",
    "            x = x - 0.5\n",
    "            x = x*2.0\n",
    "            return x\n",
    "faces = preprocessor(faces)"
   ]
  },
  {
   "cell_type": "code",
   "execution_count": 25,
   "metadata": {},
   "outputs": [
    {
     "data": {
      "text/plain": [
       "emotion     int64\n",
       "pixels     object\n",
       "Usage      object\n",
       "dtype: object"
      ]
     },
     "execution_count": 25,
     "metadata": {},
     "output_type": "execute_result"
    }
   ],
   "source": [
    "data.dtypes"
   ]
  },
  {
   "cell_type": "markdown",
   "metadata": {},
   "source": [
    "split data into test and train dataframes"
   ]
  },
  {
   "cell_type": "code",
   "execution_count": 26,
   "metadata": {},
   "outputs": [],
   "source": [
    "X_train, X_test, y_train, y_test = train_test_split(faces, emotions, test_size = 0.3,shuffle = True)"
   ]
  },
  {
   "cell_type": "code",
   "execution_count": 27,
   "metadata": {
    "scrolled": true
   },
   "outputs": [],
   "source": [
    "np.save('faces_train',X_train)"
   ]
  },
  {
   "cell_type": "code",
   "execution_count": 28,
   "metadata": {},
   "outputs": [],
   "source": [
    "np.save('faces_test',X_test)"
   ]
  },
  {
   "cell_type": "code",
   "execution_count": 29,
   "metadata": {},
   "outputs": [],
   "source": [
    "np.save('emotion_train',y_train)"
   ]
  },
  {
   "cell_type": "code",
   "execution_count": 30,
   "metadata": {},
   "outputs": [],
   "source": [
    "np.save('emotion_test',y_test)"
   ]
  },
  {
   "cell_type": "code",
   "execution_count": 162,
   "metadata": {},
   "outputs": [],
   "source": [
    "#y_train = keras.utils.to_categorical(y_train, 7) # second value defines how many categories we have\n",
    "#y_test = keras.utils.to_categorical(y_test, 7)"
   ]
  },
  {
   "cell_type": "code",
   "execution_count": 31,
   "metadata": {},
   "outputs": [],
   "source": [
    "from keras.layers import Input, Conv2D, MaxPool2D, Dropout, Activation, Dense, Flatten\n",
    "from keras.models import Sequential\n",
    "from keras.activations import relu, softmax"
   ]
  },
  {
   "cell_type": "code",
   "execution_count": 32,
   "metadata": {},
   "outputs": [
    {
     "data": {
      "text/plain": [
       "array([1, 0, 0, 0, 0, 0, 0], dtype=uint8)"
      ]
     },
     "execution_count": 32,
     "metadata": {},
     "output_type": "execute_result"
    }
   ],
   "source": [
    "y_train[0]"
   ]
  },
  {
   "cell_type": "code",
   "execution_count": 33,
   "metadata": {},
   "outputs": [
    {
     "data": {
      "text/plain": [
       "'channels_last'"
      ]
     },
     "execution_count": 33,
     "metadata": {},
     "output_type": "execute_result"
    }
   ],
   "source": [
    "keras.backend.image_data_format()"
   ]
  },
  {
   "cell_type": "code",
   "execution_count": 34,
   "metadata": {},
   "outputs": [
    {
     "data": {
      "text/plain": [
       "(25120, 48, 48, 1)"
      ]
     },
     "execution_count": 34,
     "metadata": {},
     "output_type": "execute_result"
    }
   ],
   "source": [
    "X_train.shape"
   ]
  },
  {
   "cell_type": "code",
   "execution_count": 35,
   "metadata": {},
   "outputs": [],
   "source": [
    "X_train = X_train.reshape(X_train.shape[0], X_train.shape[1], X_train.shape[2], 1) # this adds a 1 column to X_train and X_test\n",
    "X_test = X_test.reshape(X_test.shape[0], X_test.shape[1], X_test.shape[2], 1) # which is for grayscale "
   ]
  },
  {
   "cell_type": "code",
   "execution_count": 36,
   "metadata": {},
   "outputs": [
    {
     "data": {
      "text/plain": [
       "(25120, 48, 48, 1)"
      ]
     },
     "execution_count": 36,
     "metadata": {},
     "output_type": "execute_result"
    }
   ],
   "source": [
    "X_train.shape"
   ]
  },
  {
   "cell_type": "code",
   "execution_count": 37,
   "metadata": {},
   "outputs": [
    {
     "data": {
      "text/plain": [
       "(25120, 7)"
      ]
     },
     "execution_count": 37,
     "metadata": {},
     "output_type": "execute_result"
    }
   ],
   "source": [
    "y_train.shape"
   ]
  },
  {
   "cell_type": "code",
   "execution_count": 38,
   "metadata": {},
   "outputs": [
    {
     "name": "stderr",
     "output_type": "stream",
     "text": [
      "W0910 19:26:26.758280 140735758738304 deprecation_wrapper.py:119] From /Users/cyt.mead/anaconda3/lib/python3.6/site-packages/keras/backend/tensorflow_backend.py:74: The name tf.get_default_graph is deprecated. Please use tf.compat.v1.get_default_graph instead.\n",
      "\n",
      "W0910 19:26:26.799276 140735758738304 deprecation_wrapper.py:119] From /Users/cyt.mead/anaconda3/lib/python3.6/site-packages/keras/backend/tensorflow_backend.py:517: The name tf.placeholder is deprecated. Please use tf.compat.v1.placeholder instead.\n",
      "\n",
      "W0910 19:26:26.911086 140735758738304 deprecation_wrapper.py:119] From /Users/cyt.mead/anaconda3/lib/python3.6/site-packages/keras/backend/tensorflow_backend.py:4138: The name tf.random_uniform is deprecated. Please use tf.random.uniform instead.\n",
      "\n",
      "W0910 19:26:26.934028 140735758738304 deprecation_wrapper.py:119] From /Users/cyt.mead/anaconda3/lib/python3.6/site-packages/keras/backend/tensorflow_backend.py:3976: The name tf.nn.max_pool is deprecated. Please use tf.nn.max_pool2d instead.\n",
      "\n"
     ]
    }
   ],
   "source": [
    "cnn = Sequential([\n",
    "    Conv2D(50, kernel_size=(3, 3),\n",
    "                 activation='relu',\n",
    "                 input_shape=(48, 48, 1)),\n",
    "#     Conv2D(16, (3, 3), activation='relu'),\n",
    "#     Dropout(.25),\n",
    "    MaxPool2D(),\n",
    "    Flatten(),\n",
    "    Dense(64, activation='relu'),\n",
    "#     Dropout(.25),\n",
    "    Dense(64, activation='softmax'),\n",
    "    Dense(7, activation='softmax')\n",
    "    \n",
    "])"
   ]
  },
  {
   "cell_type": "code",
   "execution_count": 39,
   "metadata": {},
   "outputs": [
    {
     "name": "stdout",
     "output_type": "stream",
     "text": [
      "_________________________________________________________________\n",
      "Layer (type)                 Output Shape              Param #   \n",
      "=================================================================\n",
      "conv2d_1 (Conv2D)            (None, 46, 46, 50)        500       \n",
      "_________________________________________________________________\n",
      "max_pooling2d_1 (MaxPooling2 (None, 23, 23, 50)        0         \n",
      "_________________________________________________________________\n",
      "flatten_1 (Flatten)          (None, 26450)             0         \n",
      "_________________________________________________________________\n",
      "dense_1 (Dense)              (None, 64)                1692864   \n",
      "_________________________________________________________________\n",
      "dense_2 (Dense)              (None, 64)                4160      \n",
      "_________________________________________________________________\n",
      "dense_3 (Dense)              (None, 7)                 455       \n",
      "=================================================================\n",
      "Total params: 1,697,979\n",
      "Trainable params: 1,697,979\n",
      "Non-trainable params: 0\n",
      "_________________________________________________________________\n"
     ]
    }
   ],
   "source": [
    "cnn.summary()"
   ]
  },
  {
   "cell_type": "code",
   "execution_count": 191,
   "metadata": {},
   "outputs": [],
   "source": [
    "cnn_8 = Sequential([\n",
    "    Conv2D(8, kernel_size=(5, 5),\n",
    "                 activation='relu',\n",
    "                 input_shape=(48, 48, 1)),\n",
    "     Conv2D(16, (3, 3), activation='relu'),\n",
    "     Dropout(.25),\n",
    "    MaxPool2D(),\n",
    "    Flatten(),\n",
    "    Dense(64, activation='relu'),\n",
    "     Dropout(.25),\n",
    "    Dense(7, activation='softmax')\n",
    "])"
   ]
  },
  {
   "cell_type": "code",
   "execution_count": 143,
   "metadata": {},
   "outputs": [
    {
     "name": "stdout",
     "output_type": "stream",
     "text": [
      "_________________________________________________________________\n",
      "Layer (type)                 Output Shape              Param #   \n",
      "=================================================================\n",
      "conv2d_22 (Conv2D)           (None, 44, 44, 8)         208       \n",
      "_________________________________________________________________\n",
      "conv2d_23 (Conv2D)           (None, 42, 42, 16)        1168      \n",
      "_________________________________________________________________\n",
      "dropout_15 (Dropout)         (None, 42, 42, 16)        0         \n",
      "_________________________________________________________________\n",
      "max_pooling2d_15 (MaxPooling (None, 21, 21, 16)        0         \n",
      "_________________________________________________________________\n",
      "flatten_16 (Flatten)         (None, 7056)              0         \n",
      "_________________________________________________________________\n",
      "dense_31 (Dense)             (None, 64)                451648    \n",
      "_________________________________________________________________\n",
      "dropout_16 (Dropout)         (None, 64)                0         \n",
      "_________________________________________________________________\n",
      "dense_32 (Dense)             (None, 7)                 455       \n",
      "=================================================================\n",
      "Total params: 453,479\n",
      "Trainable params: 453,479\n",
      "Non-trainable params: 0\n",
      "_________________________________________________________________\n"
     ]
    }
   ],
   "source": [
    "cnn_8.summary() "
   ]
  },
  {
   "cell_type": "code",
   "execution_count": 40,
   "metadata": {},
   "outputs": [
    {
     "name": "stderr",
     "output_type": "stream",
     "text": [
      "W0910 19:26:37.878952 140735758738304 deprecation_wrapper.py:119] From /Users/cyt.mead/anaconda3/lib/python3.6/site-packages/keras/optimizers.py:790: The name tf.train.Optimizer is deprecated. Please use tf.compat.v1.train.Optimizer instead.\n",
      "\n",
      "W0910 19:26:37.886521 140735758738304 deprecation_wrapper.py:119] From /Users/cyt.mead/anaconda3/lib/python3.6/site-packages/keras/backend/tensorflow_backend.py:3295: The name tf.log is deprecated. Please use tf.math.log instead.\n",
      "\n"
     ]
    }
   ],
   "source": [
    "cnn.compile(loss=keras.losses.categorical_crossentropy,\n",
    "              optimizer=keras.optimizers.Adam(),\n",
    "              metrics=['accuracy'])"
   ]
  },
  {
   "cell_type": "code",
   "execution_count": 192,
   "metadata": {},
   "outputs": [],
   "source": [
    "cnn_8.compile(loss=keras.losses.categorical_crossentropy,\n",
    "              optimizer=keras.optimizers.Adadelta(),\n",
    "              metrics=['accuracy'])"
   ]
  },
  {
   "cell_type": "code",
   "execution_count": 216,
   "metadata": {},
   "outputs": [
    {
     "name": "stdout",
     "output_type": "stream",
     "text": [
      "Train on 17584 samples, validate on 7536 samples\n",
      "Epoch 1/100\n",
      "17584/17584 [==============================] - 25s 1ms/step - loss: 1.5426 - acc: 0.3837 - val_loss: 1.5996 - val_acc: 0.3540\n",
      "Epoch 2/100\n",
      "17584/17584 [==============================] - 23s 1ms/step - loss: 1.4671 - acc: 0.4216 - val_loss: 1.5707 - val_acc: 0.3857\n",
      "Epoch 3/100\n",
      "17584/17584 [==============================] - 23s 1ms/step - loss: 1.3814 - acc: 0.4572 - val_loss: 1.5401 - val_acc: 0.4029\n",
      "Epoch 4/100\n",
      "17584/17584 [==============================] - 22s 1ms/step - loss: 1.3019 - acc: 0.4828 - val_loss: 1.5422 - val_acc: 0.4086\n",
      "Epoch 5/100\n",
      "17584/17584 [==============================] - 23s 1ms/step - loss: 1.2096 - acc: 0.5171 - val_loss: 1.5726 - val_acc: 0.4009\n",
      "Epoch 6/100\n",
      "17584/17584 [==============================] - 22s 1ms/step - loss: 1.1320 - acc: 0.5441 - val_loss: 1.5705 - val_acc: 0.4096\n",
      "Epoch 7/100\n",
      "17584/17584 [==============================] - 22s 1ms/step - loss: 1.0547 - acc: 0.5769 - val_loss: 1.5944 - val_acc: 0.4204\n",
      "Epoch 8/100\n",
      "17584/17584 [==============================] - 22s 1ms/step - loss: 0.9868 - acc: 0.6063 - val_loss: 1.6070 - val_acc: 0.4315\n",
      "Epoch 9/100\n",
      "17584/17584 [==============================] - 22s 1ms/step - loss: 0.9289 - acc: 0.6233 - val_loss: 1.6589 - val_acc: 0.4360\n",
      "Epoch 10/100\n",
      "17584/17584 [==============================] - 22s 1ms/step - loss: 0.8725 - acc: 0.6516 - val_loss: 1.7072 - val_acc: 0.4244\n",
      "Epoch 11/100\n",
      "17584/17584 [==============================] - 22s 1ms/step - loss: 0.8397 - acc: 0.6638 - val_loss: 1.7434 - val_acc: 0.4183\n",
      "Epoch 12/100\n",
      "17584/17584 [==============================] - 22s 1ms/step - loss: 0.7861 - acc: 0.6856 - val_loss: 1.7895 - val_acc: 0.4395\n",
      "Epoch 13/100\n",
      "17584/17584 [==============================] - 22s 1ms/step - loss: 0.7668 - acc: 0.6958 - val_loss: 1.8106 - val_acc: 0.4232\n",
      "Epoch 14/100\n",
      "17584/17584 [==============================] - 22s 1ms/step - loss: 0.7246 - acc: 0.7161 - val_loss: 1.8241 - val_acc: 0.4274\n",
      "Epoch 15/100\n",
      "17584/17584 [==============================] - 22s 1ms/step - loss: 0.7001 - acc: 0.7275 - val_loss: 1.9082 - val_acc: 0.4348\n",
      "Epoch 16/100\n",
      "17584/17584 [==============================] - 22s 1ms/step - loss: 0.6887 - acc: 0.7333 - val_loss: 1.9329 - val_acc: 0.4313\n",
      "Epoch 17/100\n",
      "17584/17584 [==============================] - 21s 1ms/step - loss: 0.6642 - acc: 0.7482 - val_loss: 1.9661 - val_acc: 0.4287\n",
      "Epoch 18/100\n",
      "17584/17584 [==============================] - 22s 1ms/step - loss: 0.6365 - acc: 0.7594 - val_loss: 2.0225 - val_acc: 0.4208\n",
      "Epoch 19/100\n",
      "17584/17584 [==============================] - 23s 1ms/step - loss: 0.6002 - acc: 0.7805 - val_loss: 2.0180 - val_acc: 0.4420\n",
      "Epoch 20/100\n",
      "17584/17584 [==============================] - 21s 1ms/step - loss: 0.5928 - acc: 0.7848 - val_loss: 2.0943 - val_acc: 0.4260\n",
      "Epoch 21/100\n",
      "17584/17584 [==============================] - 20s 1ms/step - loss: 0.5711 - acc: 0.7940 - val_loss: 2.0911 - val_acc: 0.4420\n",
      "Epoch 22/100\n",
      "17584/17584 [==============================] - 20s 1ms/step - loss: 0.5618 - acc: 0.8005 - val_loss: 2.1016 - val_acc: 0.4348\n",
      "Epoch 23/100\n",
      "17584/17584 [==============================] - 20s 1ms/step - loss: 0.5335 - acc: 0.8123 - val_loss: 2.1337 - val_acc: 0.4354\n",
      "Epoch 24/100\n",
      "17584/17584 [==============================] - 20s 1ms/step - loss: 0.5177 - acc: 0.8216 - val_loss: 2.1874 - val_acc: 0.4427\n",
      "Epoch 25/100\n",
      "17584/17584 [==============================] - 20s 1ms/step - loss: 0.5129 - acc: 0.8223 - val_loss: 2.1939 - val_acc: 0.4356\n",
      "Epoch 26/100\n",
      "17584/17584 [==============================] - 22s 1ms/step - loss: 0.4927 - acc: 0.8334 - val_loss: 2.1989 - val_acc: 0.4383\n",
      "Epoch 27/100\n",
      "17584/17584 [==============================] - 21s 1ms/step - loss: 0.4738 - acc: 0.8422 - val_loss: 2.2478 - val_acc: 0.4366\n",
      "Epoch 28/100\n",
      "17584/17584 [==============================] - 22s 1ms/step - loss: 0.4510 - acc: 0.8516 - val_loss: 2.2776 - val_acc: 0.4437\n",
      "Epoch 29/100\n",
      "17584/17584 [==============================] - 21s 1ms/step - loss: 0.4347 - acc: 0.8585 - val_loss: 2.3360 - val_acc: 0.4339\n",
      "Epoch 30/100\n",
      "17584/17584 [==============================] - 21s 1ms/step - loss: 0.4256 - acc: 0.8644 - val_loss: 2.3050 - val_acc: 0.4378\n",
      "Epoch 31/100\n",
      "17584/17584 [==============================] - 20s 1ms/step - loss: 0.4063 - acc: 0.8741 - val_loss: 2.3674 - val_acc: 0.4431\n",
      "Epoch 32/100\n",
      "17584/17584 [==============================] - 21s 1ms/step - loss: 0.3975 - acc: 0.8763 - val_loss: 2.3969 - val_acc: 0.4366\n",
      "Epoch 33/100\n",
      "17584/17584 [==============================] - 22s 1ms/step - loss: 0.3853 - acc: 0.8826 - val_loss: 2.3867 - val_acc: 0.4388\n",
      "Epoch 34/100\n",
      "17584/17584 [==============================] - 24s 1ms/step - loss: 0.3722 - acc: 0.8869 - val_loss: 2.4089 - val_acc: 0.4425\n",
      "Epoch 35/100\n",
      "17584/17584 [==============================] - 24s 1ms/step - loss: 0.3579 - acc: 0.8934 - val_loss: 2.4375 - val_acc: 0.4447\n",
      "Epoch 36/100\n",
      "17584/17584 [==============================] - 22s 1ms/step - loss: 0.3445 - acc: 0.8976 - val_loss: 2.4142 - val_acc: 0.4419\n",
      "Epoch 37/100\n",
      "17584/17584 [==============================] - 22s 1ms/step - loss: 0.3309 - acc: 0.9029 - val_loss: 2.4417 - val_acc: 0.4441\n",
      "Epoch 38/100\n",
      "17584/17584 [==============================] - 21s 1ms/step - loss: 0.3275 - acc: 0.9038 - val_loss: 2.4630 - val_acc: 0.4399\n",
      "Epoch 39/100\n",
      "17584/17584 [==============================] - 22s 1ms/step - loss: 0.3135 - acc: 0.9089 - val_loss: 2.4788 - val_acc: 0.4498\n",
      "Epoch 40/100\n",
      "17584/17584 [==============================] - 21s 1ms/step - loss: 0.3060 - acc: 0.9119 - val_loss: 2.5454 - val_acc: 0.4530\n",
      "Epoch 41/100\n",
      "17584/17584 [==============================] - 21s 1ms/step - loss: 0.2965 - acc: 0.9154 - val_loss: 2.5857 - val_acc: 0.4362\n",
      "Epoch 42/100\n",
      "17584/17584 [==============================] - 25s 1ms/step - loss: 0.2931 - acc: 0.9155 - val_loss: 2.5965 - val_acc: 0.4488\n",
      "Epoch 43/100\n",
      "17584/17584 [==============================] - 23s 1ms/step - loss: 0.2816 - acc: 0.9201 - val_loss: 2.5969 - val_acc: 0.4411\n",
      "Epoch 44/100\n",
      "17584/17584 [==============================] - 21s 1ms/step - loss: 0.2738 - acc: 0.9221 - val_loss: 2.6182 - val_acc: 0.4407\n",
      "Epoch 45/100\n",
      "17584/17584 [==============================] - 21s 1ms/step - loss: 0.2690 - acc: 0.9243 - val_loss: 2.6604 - val_acc: 0.4443\n",
      "Epoch 46/100\n",
      "17584/17584 [==============================] - 23s 1ms/step - loss: 0.2600 - acc: 0.9268 - val_loss: 2.6660 - val_acc: 0.4497\n",
      "Epoch 47/100\n",
      "17584/17584 [==============================] - 21s 1ms/step - loss: 0.2519 - acc: 0.9288 - val_loss: 2.6973 - val_acc: 0.4321\n",
      "Epoch 48/100\n",
      "17584/17584 [==============================] - 23s 1ms/step - loss: 0.2526 - acc: 0.9290 - val_loss: 2.6460 - val_acc: 0.4428\n",
      "Epoch 49/100\n",
      "17584/17584 [==============================] - 22s 1ms/step - loss: 0.2432 - acc: 0.9310 - val_loss: 2.6426 - val_acc: 0.4421\n",
      "Epoch 50/100\n",
      "17584/17584 [==============================] - 23s 1ms/step - loss: 0.2310 - acc: 0.9342 - val_loss: 2.6076 - val_acc: 0.4582\n",
      "Epoch 51/100\n",
      "17584/17584 [==============================] - 22s 1ms/step - loss: 0.2285 - acc: 0.9340 - val_loss: 2.7574 - val_acc: 0.4481\n",
      "Epoch 52/100\n",
      "17584/17584 [==============================] - 19s 1ms/step - loss: 0.2322 - acc: 0.9330 - val_loss: 2.6830 - val_acc: 0.4463\n",
      "Epoch 53/100\n",
      "17584/17584 [==============================] - 14s 800us/step - loss: 0.2268 - acc: 0.9345 - val_loss: 2.7197 - val_acc: 0.4525\n",
      "Epoch 54/100\n",
      "17584/17584 [==============================] - 14s 803us/step - loss: 0.2037 - acc: 0.9414 - val_loss: 2.7416 - val_acc: 0.4496\n",
      "Epoch 55/100\n",
      "17584/17584 [==============================] - 14s 804us/step - loss: 0.1962 - acc: 0.9438 - val_loss: 2.7261 - val_acc: 0.4525\n",
      "Epoch 56/100\n",
      "17584/17584 [==============================] - 14s 802us/step - loss: 0.2060 - acc: 0.9414 - val_loss: 2.7308 - val_acc: 0.4468\n",
      "Epoch 57/100\n",
      "17584/17584 [==============================] - 14s 797us/step - loss: 0.2046 - acc: 0.9411 - val_loss: 2.7590 - val_acc: 0.4526\n",
      "Epoch 58/100\n",
      "17584/17584 [==============================] - 14s 799us/step - loss: 0.1896 - acc: 0.9438 - val_loss: 2.7485 - val_acc: 0.4473\n",
      "Epoch 59/100\n",
      "17584/17584 [==============================] - 14s 801us/step - loss: 0.1918 - acc: 0.9428 - val_loss: 2.8475 - val_acc: 0.4439\n",
      "Epoch 60/100\n",
      "17584/17584 [==============================] - 14s 802us/step - loss: 0.1957 - acc: 0.9420 - val_loss: 2.7904 - val_acc: 0.4489\n",
      "Epoch 61/100\n",
      "17584/17584 [==============================] - 14s 800us/step - loss: 0.1870 - acc: 0.9452 - val_loss: 2.8602 - val_acc: 0.4432\n",
      "Epoch 62/100\n",
      "17584/17584 [==============================] - 14s 800us/step - loss: 0.1717 - acc: 0.9504 - val_loss: 2.8271 - val_acc: 0.4494\n",
      "Epoch 63/100\n",
      "17584/17584 [==============================] - 14s 797us/step - loss: 0.1795 - acc: 0.9475 - val_loss: 2.8488 - val_acc: 0.4356\n",
      "Epoch 64/100\n",
      "17584/17584 [==============================] - 14s 802us/step - loss: 0.1709 - acc: 0.9509 - val_loss: 2.8712 - val_acc: 0.4417\n",
      "Epoch 65/100\n",
      "17584/17584 [==============================] - 14s 804us/step - loss: 0.1600 - acc: 0.9545 - val_loss: 2.8247 - val_acc: 0.4546\n",
      "Epoch 66/100\n",
      "17584/17584 [==============================] - 14s 803us/step - loss: 0.1687 - acc: 0.9518 - val_loss: 2.9701 - val_acc: 0.4456\n",
      "Epoch 67/100\n",
      "17584/17584 [==============================] - 14s 803us/step - loss: 0.1589 - acc: 0.9547 - val_loss: 2.9834 - val_acc: 0.4468\n",
      "Epoch 68/100\n",
      "17584/17584 [==============================] - 14s 807us/step - loss: 0.1556 - acc: 0.9556 - val_loss: 2.9076 - val_acc: 0.4501\n",
      "Epoch 69/100\n",
      "17584/17584 [==============================] - 14s 803us/step - loss: 0.1460 - acc: 0.9601 - val_loss: 2.9779 - val_acc: 0.4445\n",
      "Epoch 70/100\n",
      "17584/17584 [==============================] - 14s 803us/step - loss: 0.1457 - acc: 0.9601 - val_loss: 2.9297 - val_acc: 0.4449\n",
      "Epoch 71/100\n",
      "17584/17584 [==============================] - 14s 804us/step - loss: 0.1545 - acc: 0.9571 - val_loss: 3.0462 - val_acc: 0.4337\n",
      "Epoch 72/100\n",
      "17584/17584 [==============================] - 14s 803us/step - loss: 0.1513 - acc: 0.9584 - val_loss: 2.9306 - val_acc: 0.4449\n",
      "Epoch 73/100\n",
      "17584/17584 [==============================] - 14s 803us/step - loss: 0.1393 - acc: 0.9614 - val_loss: 2.9835 - val_acc: 0.4359\n",
      "Epoch 74/100\n",
      "17584/17584 [==============================] - 14s 804us/step - loss: 0.1425 - acc: 0.9619 - val_loss: 3.0248 - val_acc: 0.4497\n",
      "Epoch 75/100\n",
      "17584/17584 [==============================] - 14s 804us/step - loss: 0.1403 - acc: 0.9632 - val_loss: 3.0499 - val_acc: 0.4496\n",
      "Epoch 76/100\n",
      "17584/17584 [==============================] - 14s 803us/step - loss: 0.1478 - acc: 0.9597 - val_loss: 3.1211 - val_acc: 0.4350\n",
      "Epoch 77/100\n",
      "17584/17584 [==============================] - 14s 806us/step - loss: 0.1313 - acc: 0.9649 - val_loss: 3.0634 - val_acc: 0.4402\n",
      "Epoch 78/100\n",
      "17584/17584 [==============================] - 14s 798us/step - loss: 0.1345 - acc: 0.9639 - val_loss: 3.1059 - val_acc: 0.4453\n",
      "Epoch 79/100\n",
      "17584/17584 [==============================] - 14s 800us/step - loss: 0.1364 - acc: 0.9639 - val_loss: 3.1287 - val_acc: 0.4420\n",
      "Epoch 80/100\n",
      "17584/17584 [==============================] - 14s 806us/step - loss: 0.1270 - acc: 0.9670 - val_loss: 3.0624 - val_acc: 0.4481\n",
      "Epoch 81/100\n",
      "17584/17584 [==============================] - 14s 804us/step - loss: 0.1232 - acc: 0.9685 - val_loss: 3.1401 - val_acc: 0.4449\n",
      "Epoch 82/100\n",
      "17584/17584 [==============================] - 14s 803us/step - loss: 0.1358 - acc: 0.9635 - val_loss: 3.1752 - val_acc: 0.4520\n",
      "Epoch 83/100\n",
      "17584/17584 [==============================] - 14s 805us/step - loss: 0.1340 - acc: 0.9647 - val_loss: 3.1857 - val_acc: 0.4488\n",
      "Epoch 84/100\n",
      "17584/17584 [==============================] - 14s 804us/step - loss: 0.1280 - acc: 0.9664 - val_loss: 3.1284 - val_acc: 0.4477\n",
      "Epoch 85/100\n",
      "17584/17584 [==============================] - 14s 807us/step - loss: 0.1198 - acc: 0.9685 - val_loss: 3.1604 - val_acc: 0.4525\n",
      "Epoch 86/100\n",
      "17584/17584 [==============================] - 14s 808us/step - loss: 0.1145 - acc: 0.9706 - val_loss: 3.1032 - val_acc: 0.4461\n",
      "Epoch 87/100\n",
      "17584/17584 [==============================] - 14s 803us/step - loss: 0.1132 - acc: 0.9708 - val_loss: 3.2425 - val_acc: 0.4489\n",
      "Epoch 88/100\n",
      "17584/17584 [==============================] - 14s 802us/step - loss: 0.1182 - acc: 0.9694 - val_loss: 3.1762 - val_acc: 0.4567\n",
      "Epoch 89/100\n",
      "17584/17584 [==============================] - 14s 804us/step - loss: 0.1117 - acc: 0.9712 - val_loss: 3.2105 - val_acc: 0.4484\n",
      "Epoch 90/100\n",
      "17584/17584 [==============================] - 14s 801us/step - loss: 0.1230 - acc: 0.9682 - val_loss: 3.1991 - val_acc: 0.4514\n",
      "Epoch 91/100\n",
      "17584/17584 [==============================] - 14s 800us/step - loss: 0.1282 - acc: 0.9647 - val_loss: 3.2109 - val_acc: 0.4439\n",
      "Epoch 92/100\n",
      "17584/17584 [==============================] - 14s 802us/step - loss: 0.1168 - acc: 0.9682 - val_loss: 3.2613 - val_acc: 0.4406\n",
      "Epoch 93/100\n",
      "17584/17584 [==============================] - 14s 801us/step - loss: 0.1116 - acc: 0.9707 - val_loss: 3.2730 - val_acc: 0.4471\n",
      "Epoch 94/100\n",
      "17584/17584 [==============================] - 14s 807us/step - loss: 0.1113 - acc: 0.9714 - val_loss: 3.4005 - val_acc: 0.4436\n",
      "Epoch 95/100\n",
      "17584/17584 [==============================] - 14s 802us/step - loss: 0.1074 - acc: 0.9725 - val_loss: 3.2817 - val_acc: 0.4506\n",
      "Epoch 96/100\n",
      "17584/17584 [==============================] - 14s 814us/step - loss: 0.1020 - acc: 0.9731 - val_loss: 3.3258 - val_acc: 0.4444\n",
      "Epoch 97/100\n",
      "17584/17584 [==============================] - 14s 804us/step - loss: 0.1024 - acc: 0.9736 - val_loss: 3.3232 - val_acc: 0.4404\n",
      "Epoch 98/100\n",
      "17584/17584 [==============================] - 14s 806us/step - loss: 0.1162 - acc: 0.9693 - val_loss: 3.2890 - val_acc: 0.4410\n",
      "Epoch 99/100\n",
      "17584/17584 [==============================] - 2222s 126ms/step - loss: 0.1136 - acc: 0.9704 - val_loss: 3.3322 - val_acc: 0.4416\n",
      "Epoch 100/100\n",
      "17584/17584 [==============================] - 50s 3ms/step - loss: 0.1049 - acc: 0.9718 - val_loss: 3.3809 - val_acc: 0.4358\n"
     ]
    },
    {
     "data": {
      "text/plain": [
       "<keras.callbacks.History at 0x1a46896240>"
      ]
     },
     "execution_count": 216,
     "metadata": {},
     "output_type": "execute_result"
    }
   ],
   "source": [
    "cnn.fit(X_train, y_train, validation_split=.3, epochs=100)"
   ]
  },
  {
   "cell_type": "code",
   "execution_count": 196,
   "metadata": {
    "scrolled": true
   },
   "outputs": [
    {
     "name": "stdout",
     "output_type": "stream",
     "text": [
      "Train on 17584 samples, validate on 7536 samples\n",
      "Epoch 1/3\n",
      "17584/17584 [==============================] - 16s 927us/step - loss: 1.2348 - acc: 0.5340 - val_loss: 1.3542 - val_acc: 0.4827\n",
      "Epoch 2/3\n",
      "17584/17584 [==============================] - 17s 940us/step - loss: 1.1246 - acc: 0.5755 - val_loss: 1.3756 - val_acc: 0.4797\n",
      "Epoch 3/3\n",
      "17584/17584 [==============================] - 17s 946us/step - loss: 1.0143 - acc: 0.6226 - val_loss: 1.3536 - val_acc: 0.4886\n"
     ]
    },
    {
     "data": {
      "text/plain": [
       "<keras.callbacks.History at 0x1a46871668>"
      ]
     },
     "execution_count": 196,
     "metadata": {},
     "output_type": "execute_result"
    }
   ],
   "source": [
    "cnn_8.fit(X_train, y_train, validation_split=.3, epochs=3)"
   ]
  },
  {
   "cell_type": "code",
   "execution_count": 2,
   "metadata": {
    "scrolled": false
   },
   "outputs": [
    {
     "name": "stdout",
     "output_type": "stream",
     "text": [
      "WARNING conda.base.context:use_only_tar_bz2(632): Conda is constrained to only using the old .tar.bz2 file format because you have conda-build installed, and it is <3.18.3.  Update or remove conda-build to get smaller downloads and faster extractions.\n",
      "Collecting package metadata (repodata.json): done\n",
      "Solving environment: done\n",
      "WARNING conda.core.package_cache_data:_make_single_record(350): Encountered corrupt package tarball at /Users/cyt.mead/anaconda3/pkgs/certifi-2019.6.16-py36_1.tar.bz2. Conda has removed it, but you need to re-run conda to download it again.\n",
      "\n",
      "## Package Plan ##\n",
      "\n",
      "  environment location: /Users/cyt.mead/anaconda3\n",
      "\n",
      "  added / updated specs:\n",
      "    - h5py\n",
      "\n",
      "\n",
      "The following packages will be downloaded:\n",
      "\n",
      "    package                    |            build\n",
      "    ---------------------------|-----------------\n",
      "    ca-certificates-2019.5.15  |                1         133 KB\n",
      "    certifi-2019.6.16          |           py36_1         155 KB\n",
      "    conda-4.7.11               |           py36_0         3.0 MB\n",
      "    ------------------------------------------------------------\n",
      "                                           Total:         3.3 MB\n",
      "\n",
      "The following packages will be REMOVED:\n",
      "\n",
      "  mkl-service-1.1.2-py36hfbe908c_5\n",
      "\n",
      "The following packages will be UPDATED:\n",
      "\n",
      "  ca-certificates                               2019.5.15-0 --> 2019.5.15-1\n",
      "  certifi                                  2019.6.16-py36_0 --> 2019.6.16-py36_1\n",
      "  conda                                        4.7.5-py36_0 --> 4.7.11-py36_0\n",
      "\n",
      "\n",
      "\n",
      "Downloading and Extracting Packages\n",
      "conda-4.7.11         | 3.0 MB    | ##################################### | 100% \n",
      "ca-certificates-2019 | 133 KB    | ##################################### | 100% \n",
      "certifi-2019.6.16    | 155 KB    | ##################################### | 100% \n",
      "Preparing transaction: done\n",
      "Verifying transaction: done\n",
      "Executing transaction: done\n",
      "\n",
      "Note: you may need to restart the kernel to use updated packages.\n"
     ]
    }
   ],
   "source": [
    "conda install h5py"
   ]
  },
  {
   "cell_type": "code",
   "execution_count": 4,
   "metadata": {},
   "outputs": [
    {
     "name": "stdout",
     "output_type": "stream",
     "text": [
      "Collecting coremltools\n",
      "\u001b[?25l  Downloading https://files.pythonhosted.org/packages/f7/c0/916bec081488930f805b5d19a9c984ada8a7587220b31179d4b64e69709d/coremltools-2.1.0-cp36-none-macosx_10_13_intel.whl (3.1MB)\n",
      "\u001b[K     |████████████████████████████████| 3.1MB 3.4MB/s eta 0:00:01\n",
      "\u001b[?25hRequirement already satisfied: six>=1.10.0 in /Users/cyt.mead/anaconda3/lib/python3.6/site-packages (from coremltools) (1.12.0)\n",
      "Requirement already satisfied: numpy>=1.10.0 in /Users/cyt.mead/anaconda3/lib/python3.6/site-packages (from coremltools) (1.16.3)\n",
      "Requirement already satisfied: protobuf>=3.1.0 in /Users/cyt.mead/anaconda3/lib/python3.6/site-packages (from coremltools) (3.9.0)\n",
      "Requirement already satisfied: setuptools in /Users/cyt.mead/anaconda3/lib/python3.6/site-packages (from protobuf>=3.1.0->coremltools) (41.0.1)\n",
      "Installing collected packages: coremltools\n",
      "Successfully installed coremltools-2.1.0\n",
      "Note: you may need to restart the kernel to use updated packages.\n"
     ]
    }
   ],
   "source": [
    "pip install coremltools "
   ]
  },
  {
   "cell_type": "code",
   "execution_count": 50,
   "metadata": {},
   "outputs": [],
   "source": [
    "from keras.models import load_model\n",
    "import coremltools"
   ]
  },
  {
   "cell_type": "code",
   "execution_count": 51,
   "metadata": {
    "scrolled": true
   },
   "outputs": [],
   "source": [
    "cnn.save('fifa_emo.h5')"
   ]
  },
  {
   "cell_type": "code",
   "execution_count": 52,
   "metadata": {},
   "outputs": [
    {
     "name": "stdout",
     "output_type": "stream",
     "text": [
      "0 : conv2d_1_input, <keras.engine.input_layer.InputLayer object at 0x1a427bd860>\n",
      "1 : conv2d_1, <keras.layers.convolutional.Conv2D object at 0x1a427bd828>\n",
      "2 : conv2d_1__activation__, <keras.layers.core.Activation object at 0x11063a1d0>\n",
      "3 : max_pooling2d_1, <keras.layers.pooling.MaxPooling2D object at 0x1a427bdc88>\n",
      "4 : flatten_1, <keras.layers.core.Flatten object at 0x1a427d8128>\n",
      "5 : dense_1, <keras.layers.core.Dense object at 0x1a427d80b8>\n",
      "6 : dense_1__activation__, <keras.layers.core.Activation object at 0x1a4284d3c8>\n",
      "7 : dense_2, <keras.layers.core.Dense object at 0x1a427f2780>\n",
      "8 : dense_2__activation__, <keras.layers.core.Activation object at 0x1a4284d278>\n",
      "9 : dense_3, <keras.layers.core.Dense object at 0x1a42813d68>\n",
      "10 : dense_3__activation__, <keras.layers.core.Activation object at 0x1a427bd7b8>\n"
     ]
    }
   ],
   "source": [
    "output_labels = ['0', '1', '2', '3', '4', '5', '6']\n",
    "fifa_emo = coremltools.converters.keras.convert('fifa_emo.h5', input_names=['image'], output_names=['output'], \n",
    "                                                   class_labels=output_labels, image_input_names='image')\n",
    "\n",
    "fifa_emo.save('fifa_emo.mlmodel')"
   ]
  },
  {
   "cell_type": "code",
   "execution_count": 212,
   "metadata": {},
   "outputs": [
    {
     "name": "stdout",
     "output_type": "stream",
     "text": [
      "10767/10767 [==============================] - 3s 286us/step\n"
     ]
    }
   ],
   "source": [
    "loss, accuracy = cnn.evaluate(X_test, y_test)"
   ]
  },
  {
   "cell_type": "code",
   "execution_count": 197,
   "metadata": {},
   "outputs": [
    {
     "name": "stdout",
     "output_type": "stream",
     "text": [
      "10767/10767 [==============================] - 2s 219us/step\n"
     ]
    }
   ],
   "source": [
    "loss_x, accuracy_x = cnn_8.evaluate(X_test, y_test)"
   ]
  },
  {
   "cell_type": "code",
   "execution_count": 213,
   "metadata": {},
   "outputs": [
    {
     "data": {
      "text/plain": [
       "0.31642983190758905"
      ]
     },
     "execution_count": 213,
     "metadata": {},
     "output_type": "execute_result"
    }
   ],
   "source": [
    "accuracy"
   ]
  },
  {
   "cell_type": "code",
   "execution_count": 198,
   "metadata": {},
   "outputs": [
    {
     "data": {
      "text/plain": [
       "0.49874616887694095"
      ]
     },
     "execution_count": 198,
     "metadata": {},
     "output_type": "execute_result"
    }
   ],
   "source": [
    "accuracy_x"
   ]
  },
  {
   "cell_type": "code",
   "execution_count": 36,
   "metadata": {},
   "outputs": [
    {
     "name": "stderr",
     "output_type": "stream",
     "text": [
      "WARNING: Logging before flag parsing goes to stderr.\n",
      "W0905 18:17:05.786782 140735758738304 deprecation_wrapper.py:119] From /Users/cyt.mead/anaconda3/lib/python3.6/site-packages/keras/backend/tensorflow_backend.py:74: The name tf.get_default_graph is deprecated. Please use tf.compat.v1.get_default_graph instead.\n",
      "\n",
      "W0905 18:17:05.831677 140735758738304 deprecation_wrapper.py:119] From /Users/cyt.mead/anaconda3/lib/python3.6/site-packages/keras/backend/tensorflow_backend.py:517: The name tf.placeholder is deprecated. Please use tf.compat.v1.placeholder instead.\n",
      "\n",
      "W0905 18:17:05.851822 140735758738304 deprecation_wrapper.py:119] From /Users/cyt.mead/anaconda3/lib/python3.6/site-packages/keras/backend/tensorflow_backend.py:4138: The name tf.random_uniform is deprecated. Please use tf.random.uniform instead.\n",
      "\n"
     ]
    }
   ],
   "source": [
    "mlp = Sequential([\n",
    "    Dense(24, input_shape=(28,28,1), activation='relu'), # documentation of activations: https://keras.io/activations/\n",
    "    Flatten(),\n",
    "    Dense(10, activation='softmax')\n",
    "])"
   ]
  },
  {
   "cell_type": "code",
   "execution_count": null,
   "metadata": {},
   "outputs": [],
   "source": []
  },
  {
   "cell_type": "code",
   "execution_count": 37,
   "metadata": {},
   "outputs": [
    {
     "name": "stdout",
     "output_type": "stream",
     "text": [
      "_________________________________________________________________\n",
      "Layer (type)                 Output Shape              Param #   \n",
      "=================================================================\n",
      "dense_1 (Dense)              (None, 28, 28, 24)        48        \n",
      "_________________________________________________________________\n",
      "flatten_1 (Flatten)          (None, 18816)             0         \n",
      "_________________________________________________________________\n",
      "dense_2 (Dense)              (None, 10)                188170    \n",
      "=================================================================\n",
      "Total params: 188,218\n",
      "Trainable params: 188,218\n",
      "Non-trainable params: 0\n",
      "_________________________________________________________________\n"
     ]
    }
   ],
   "source": [
    "mlp.summary()"
   ]
  },
  {
   "cell_type": "code",
   "execution_count": 38,
   "metadata": {},
   "outputs": [
    {
     "name": "stderr",
     "output_type": "stream",
     "text": [
      "W0905 18:17:12.809637 140735758738304 deprecation_wrapper.py:119] From /Users/cyt.mead/anaconda3/lib/python3.6/site-packages/keras/optimizers.py:790: The name tf.train.Optimizer is deprecated. Please use tf.compat.v1.train.Optimizer instead.\n",
      "\n",
      "W0905 18:17:12.817721 140735758738304 deprecation_wrapper.py:119] From /Users/cyt.mead/anaconda3/lib/python3.6/site-packages/keras/backend/tensorflow_backend.py:3295: The name tf.log is deprecated. Please use tf.math.log instead.\n",
      "\n"
     ]
    }
   ],
   "source": [
    "mlp.compile(optimizer=keras.optimizers.SGD(), \n",
    "           loss=keras.losses.categorical_crossentropy, #we are doing a multi-class classification; minimize loss\n",
    "           metrics=['accuracy'])"
   ]
  },
  {
   "cell_type": "code",
   "execution_count": 39,
   "metadata": {},
   "outputs": [
    {
     "ename": "ValueError",
     "evalue": "too many values to unpack (expected 2)",
     "output_type": "error",
     "traceback": [
      "\u001b[0;31m---------------------------------------------------------------------------\u001b[0m",
      "\u001b[0;31mValueError\u001b[0m                                Traceback (most recent call last)",
      "\u001b[0;32m<ipython-input-39-8c121be191b9>\u001b[0m in \u001b[0;36m<module>\u001b[0;34m\u001b[0m\n\u001b[0;32m----> 1\u001b[0;31m \u001b[0;34m(\u001b[0m\u001b[0mX_train\u001b[0m\u001b[0;34m,\u001b[0m \u001b[0my_train\u001b[0m\u001b[0;34m)\u001b[0m\u001b[0;34m,\u001b[0m \u001b[0;34m(\u001b[0m\u001b[0mX_test\u001b[0m\u001b[0;34m,\u001b[0m \u001b[0my_test\u001b[0m\u001b[0;34m)\u001b[0m \u001b[0;34m=\u001b[0m \u001b[0;34m'./Data/fer2013.csv'\u001b[0m\u001b[0;34m\u001b[0m\u001b[0;34m\u001b[0m\u001b[0m\n\u001b[0m\u001b[1;32m      2\u001b[0m \u001b[0;34m\u001b[0m\u001b[0m\n\u001b[1;32m      3\u001b[0m \u001b[0mX_train\u001b[0m \u001b[0;34m=\u001b[0m \u001b[0mX_train\u001b[0m\u001b[0;34m.\u001b[0m\u001b[0mastype\u001b[0m\u001b[0;34m(\u001b[0m\u001b[0;34m'float32'\u001b[0m\u001b[0;34m)\u001b[0m\u001b[0;34m\u001b[0m\u001b[0;34m\u001b[0m\u001b[0m\n\u001b[1;32m      4\u001b[0m \u001b[0mX_test\u001b[0m \u001b[0;34m=\u001b[0m \u001b[0mX_test\u001b[0m\u001b[0;34m.\u001b[0m\u001b[0mastype\u001b[0m\u001b[0;34m(\u001b[0m\u001b[0;34m'float32'\u001b[0m\u001b[0;34m)\u001b[0m\u001b[0;34m\u001b[0m\u001b[0;34m\u001b[0m\u001b[0m\n\u001b[1;32m      5\u001b[0m \u001b[0mX_train\u001b[0m \u001b[0;34m/=\u001b[0m \u001b[0;36m255\u001b[0m\u001b[0;34m\u001b[0m\u001b[0;34m\u001b[0m\u001b[0m\n",
      "\u001b[0;31mValueError\u001b[0m: too many values to unpack (expected 2)"
     ]
    }
   ],
   "source": [
    "(X_train, y_train), (X_test, y_test) = './Data/fer2013.csv'\n",
    "\n",
    "X_train = X_train.astype('float32')\n",
    "X_test = X_test.astype('float32')\n",
    "X_train /= 255\n",
    "X_test /= 255\n",
    "X_train = X_train.reshape(X_train.shape[0], X_train.shape[1], X_train.shape[2], 1) # this adds a 1 column to X_train and X_test\n",
    "X_test = X_test.reshape(X_test.shape[0], X_test.shape[1], X_test.shape[2], 1) # which is for grayscale "
   ]
  },
  {
   "cell_type": "code",
   "execution_count": 39,
   "metadata": {},
   "outputs": [
    {
     "ename": "NameError",
     "evalue": "name 'X_train' is not defined",
     "output_type": "error",
     "traceback": [
      "\u001b[0;31m---------------------------------------------------------------------------\u001b[0m",
      "\u001b[0;31mNameError\u001b[0m                                 Traceback (most recent call last)",
      "\u001b[0;32m<ipython-input-39-474525807dc9>\u001b[0m in \u001b[0;36m<module>\u001b[0;34m\u001b[0m\n\u001b[0;32m----> 1\u001b[0;31m \u001b[0mmlp\u001b[0m\u001b[0;34m.\u001b[0m\u001b[0mfit\u001b[0m\u001b[0;34m(\u001b[0m\u001b[0mX_train\u001b[0m\u001b[0;34m,\u001b[0m \u001b[0my_train\u001b[0m\u001b[0;34m,\u001b[0m \u001b[0mvalidation_data\u001b[0m\u001b[0;34m=\u001b[0m\u001b[0;34m(\u001b[0m\u001b[0mX_test\u001b[0m\u001b[0;34m,\u001b[0m \u001b[0my_test\u001b[0m\u001b[0;34m)\u001b[0m\u001b[0;34m,\u001b[0m \u001b[0mepochs\u001b[0m\u001b[0;34m=\u001b[0m\u001b[0;36m3\u001b[0m\u001b[0;34m)\u001b[0m\u001b[0;34m\u001b[0m\u001b[0;34m\u001b[0m\u001b[0m\n\u001b[0m",
      "\u001b[0;31mNameError\u001b[0m: name 'X_train' is not defined"
     ]
    }
   ],
   "source": [
    "mlp.fit(X_train, y_train, validation_data=(X_test, y_test), epochs=3)"
   ]
  },
  {
   "cell_type": "code",
   "execution_count": null,
   "metadata": {},
   "outputs": [],
   "source": []
  },
  {
   "cell_type": "code",
   "execution_count": null,
   "metadata": {},
   "outputs": [],
   "source": []
  }
 ],
 "metadata": {
  "kernelspec": {
   "display_name": "Python 3",
   "language": "python",
   "name": "python3"
  },
  "language_info": {
   "codemirror_mode": {
    "name": "ipython",
    "version": 3
   },
   "file_extension": ".py",
   "mimetype": "text/x-python",
   "name": "python",
   "nbconvert_exporter": "python",
   "pygments_lexer": "ipython3",
   "version": "3.6.8"
  }
 },
 "nbformat": 4,
 "nbformat_minor": 2
}
